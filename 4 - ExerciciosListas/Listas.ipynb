{
 "cells": [
  {
   "cell_type": "markdown",
   "metadata": {},
   "source": [
    "# Resolução Exercícios Listas\n",
    "[Exercícios com Listas](https://wiki.python.org.br/ExerciciosListas)"
   ]
  },
  {
   "cell_type": "markdown",
   "metadata": {},
   "source": [
    "<font size=\"3\">1 - Faça um Programa que leia um vetor de 5 números inteiros e mostre-os.</font>"
   ]
  },
  {
   "cell_type": "code",
   "execution_count": 2,
   "metadata": {},
   "outputs": [
    {
     "name": "stdout",
     "output_type": "stream",
     "text": [
      "[1, 2, 3, 4, 5]\n"
     ]
    }
   ],
   "source": [
    "numbers = []\n",
    "for i in range(1,6):\n",
    "    numbers.append(int(input('Digite um número: ')))\n",
    "print(numbers)"
   ]
  },
  {
   "cell_type": "markdown",
   "metadata": {},
   "source": [
    "<font size=\"3\">2 - Faça um Programa que leia um vetor de 10 números reais e mostre-os na ordem inversa.</font>"
   ]
  },
  {
   "cell_type": "code",
   "execution_count": 12,
   "metadata": {},
   "outputs": [
    {
     "name": "stdout",
     "output_type": "stream",
     "text": [
      "[10, 9, 8, 7, 6, 5, 4, 3, 2, 1]\n"
     ]
    }
   ],
   "source": [
    "numbers = []\n",
    "for i in range(1,11):\n",
    "    numbers.append(int(input('Digite um número: ')))\n",
    "numbers.reverse()\n",
    "print(numbers)"
   ]
  },
  {
   "cell_type": "markdown",
   "metadata": {},
   "source": [
    "<font size=\"3\">3 - Faça um Programa que leia 4 notas, mostre as notas e a média na tela.\n",
    "</font>"
   ]
  },
  {
   "cell_type": "code",
   "execution_count": 30,
   "metadata": {},
   "outputs": [
    {
     "name": "stdout",
     "output_type": "stream",
     "text": [
      "Nota 1: 6.0, Nota 2: 6.5, Nota 3: 6.5, Nota 4: 6.5. A média das notas foi 5.975.\n"
     ]
    }
   ],
   "source": [
    "notas = []\n",
    "for i in range(1,5):\n",
    "    notas.append(float(input('Digite a nota #{}: '.format(i))))\n",
    "print('Nota 1: {}, Nota 2: {}, Nota 3: {}, Nota 4: {}. A média das notas foi {}.'.format(notas[0],notas[1],notas[1],notas[1], sum(notas)/len(notas)))"
   ]
  },
  {
   "cell_type": "markdown",
   "metadata": {},
   "source": [
    "<font size=\"3\">4 - Faça um Programa que leia um vetor de 10 caracteres, e diga quantas consoantes foram lidas. Imprima as consoantes..\n",
    "</font>"
   ]
  },
  {
   "cell_type": "code",
   "execution_count": 31,
   "metadata": {},
   "outputs": [
    {
     "name": "stdout",
     "output_type": "stream",
     "text": [
      "['g', 'b', 'm', 'c', 'q', 'x', 'z'] \n",
      "Foram digitados 7 consoantes\n"
     ]
    }
   ],
   "source": [
    "list_consoantes = []\n",
    "for i in range(1,11):\n",
    "    char = input('Digite o {}º caracter: '.format(i))\n",
    "    if char.lower() not in ('a','e','i','o','u'):\n",
    "        list_consoantes.append(char)\n",
    "\n",
    "print(list_consoantes, '\\nForam digitados {} consoantes'.format(len(list_consoantes)))"
   ]
  },
  {
   "cell_type": "markdown",
   "metadata": {},
   "source": [
    "<font size=\"3\">5 - Faça um Programa que leia 20 números inteiros e armazene-os num vetor. Armazene os números pares no vetor PAR e os números IMPARES no vetor impar. Imprima os três vetores.\n",
    "</font>\n"
   ]
  },
  {
   "cell_type": "code",
   "execution_count": 39,
   "metadata": {},
   "outputs": [
    {
     "name": "stdout",
     "output_type": "stream",
     "text": [
      " Números digitados: [8, 9, 6, 1] \n",
      " Números pares: [8, 6] \n",
      " Números impares: [9, 1]\n"
     ]
    }
   ],
   "source": [
    "digitados = []\n",
    "pares = []\n",
    "impares = []\n",
    "\n",
    "for i in range(1,5):\n",
    "    number = int(input('Digite o número #{}'.format(i)))\n",
    "    digitados.append(number)\n",
    "\n",
    "    if (number%2) == 0:\n",
    "        pares.append(number)\n",
    "    else:\n",
    "        impares.append(number)\n",
    "\n",
    "print(' Números digitados:', digitados, '\\n Números pares:', pares, '\\n Números impares:', impares)\n"
   ]
  }
 ],
 "metadata": {
  "interpreter": {
   "hash": "e4bfd4a1e25b52614df0ea3d2a9f528fe07ea6cf6389d30a64eed3046b397ae6"
  },
  "kernelspec": {
   "display_name": "Python 3.9.6 64-bit",
   "name": "python3"
  },
  "language_info": {
   "codemirror_mode": {
    "name": "ipython",
    "version": 3
   },
   "file_extension": ".py",
   "mimetype": "text/x-python",
   "name": "python",
   "nbconvert_exporter": "python",
   "pygments_lexer": "ipython3",
   "version": "3.9.6"
  },
  "orig_nbformat": 4
 },
 "nbformat": 4,
 "nbformat_minor": 2
}
