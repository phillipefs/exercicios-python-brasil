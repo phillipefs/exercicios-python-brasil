{
 "cells": [
  {
   "cell_type": "markdown",
   "metadata": {},
   "source": [
    "# Resolução Exercícios Listas\n",
    "[Exercícios com Listas](https://wiki.python.org.br/ExerciciosListas)"
   ]
  },
  {
   "cell_type": "markdown",
   "metadata": {},
   "source": [
    "1 - Faça um Programa que leia um vetor de 5 números inteiros e mostre-os."
   ]
  },
  {
   "cell_type": "code",
   "execution_count": 2,
   "metadata": {},
   "outputs": [
    {
     "name": "stdout",
     "output_type": "stream",
     "text": [
      "[1, 2, 3, 4, 5]\n"
     ]
    }
   ],
   "source": [
    "numbers = []\n",
    "for i in range(1,6):\n",
    "    numbers.append(int(input('Digite um número: ')))\n",
    "print(numbers)"
   ]
  },
  {
   "cell_type": "markdown",
   "metadata": {},
   "source": [
    "2 - Faça um Programa que leia um vetor de 10 números reais e mostre-os na ordem inversa."
   ]
  },
  {
   "cell_type": "code",
   "execution_count": 3,
   "metadata": {},
   "outputs": [
    {
     "name": "stdout",
     "output_type": "stream",
     "text": [
      "None\n"
     ]
    }
   ],
   "source": [
    "numbers = []\n",
    "for i in range(1,11):\n",
    "    numbers.append(int(input('Digite um número: ')))\n",
    "\n",
    "print(numbers.reverse)\n"
   ]
  }
 ],
 "metadata": {
  "interpreter": {
   "hash": "e4bfd4a1e25b52614df0ea3d2a9f528fe07ea6cf6389d30a64eed3046b397ae6"
  },
  "kernelspec": {
   "display_name": "Python 3.9.6 64-bit",
   "name": "python3"
  },
  "language_info": {
   "codemirror_mode": {
    "name": "ipython",
    "version": 3
   },
   "file_extension": ".py",
   "mimetype": "text/x-python",
   "name": "python",
   "nbconvert_exporter": "python",
   "pygments_lexer": "ipython3",
   "version": "3.9.6"
  },
  "orig_nbformat": 4
 },
 "nbformat": 4,
 "nbformat_minor": 2
}
