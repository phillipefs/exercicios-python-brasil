{
 "cells": [
  {
   "cell_type": "markdown",
   "metadata": {},
   "source": [
    "# Resolução Exercícios Listas\n",
    "[Exercícios com Listas](https://wiki.python.org.br/ExerciciosListas)"
   ]
  },
  {
   "cell_type": "markdown",
   "metadata": {},
   "source": [
    "1 - Faça um Programa que leia um vetor de 5 números inteiros e mostre-os."
   ]
  },
  {
   "cell_type": "code",
   "execution_count": 2,
   "metadata": {},
   "outputs": [
    {
     "name": "stdout",
     "output_type": "stream",
     "text": [
      "[1, 2, 3, 4, 5]\n"
     ]
    }
   ],
   "source": [
    "numbers = []\n",
    "for i in range(1,6):\n",
    "    numbers.append(int(input('Digite um número: ')))\n",
    "print(numbers)"
   ]
  },
  {
   "cell_type": "markdown",
   "metadata": {},
   "source": [
    "2 - Faça um Programa que leia um vetor de 10 números reais e mostre-os na ordem inversa."
   ]
  },
  {
   "cell_type": "code",
   "execution_count": 12,
   "metadata": {},
   "outputs": [
    {
     "name": "stdout",
     "output_type": "stream",
     "text": [
      "[10, 9, 8, 7, 6, 5, 4, 3, 2, 1]\n"
     ]
    }
   ],
   "source": [
    "numbers = []\n",
    "for i in range(1,11):\n",
    "    numbers.append(int(input('Digite um número: ')))\n",
    "numbers.reverse()\n",
    "print(numbers)"
   ]
  },
  {
   "cell_type": "markdown",
   "metadata": {},
   "source": [
    "3 - Faça um Programa que leia 4 notas, mostre as notas e a média na tela."
   ]
  },
  {
   "cell_type": "code",
   "execution_count": 30,
   "metadata": {},
   "outputs": [
    {
     "name": "stdout",
     "output_type": "stream",
     "text": [
      "Nota 1: 6.0, Nota 2: 6.5, Nota 3: 6.5, Nota 4: 6.5. A média das notas foi 5.975.\n"
     ]
    }
   ],
   "source": [
    "notas = []\n",
    "for i in range(1,5):\n",
    "    notas.append(float(input('Digite a nota #{}: '.format(i))))\n",
    "print('Nota 1: {}, Nota 2: {}, Nota 3: {}, Nota 4: {}. A média das notas foi {}.'.format(notas[0],notas[1],notas[1],notas[1], sum(notas)/len(notas)))"
   ]
  },
  {
   "cell_type": "markdown",
   "metadata": {},
   "source": [
    "4 - Faça um Programa que leia um vetor de 10 caracteres, e diga quantas consoantes foram lidas. Imprima as consoantes."
   ]
  },
  {
   "cell_type": "code",
   "execution_count": 31,
   "metadata": {},
   "outputs": [
    {
     "name": "stdout",
     "output_type": "stream",
     "text": [
      "['g', 'b', 'm', 'c', 'q', 'x', 'z'] \n",
      "Foram digitados 7 consoantes\n"
     ]
    }
   ],
   "source": [
    "list_consoantes = []\n",
    "for i in range(1,11):\n",
    "    char = input('Digite o {}º caracter: '.format(i))\n",
    "    if char.lower() not in ('a','e','i','o','u'):\n",
    "        list_consoantes.append(char)\n",
    "\n",
    "print(list_consoantes, '\\nForam digitados {} consoantes'.format(len(list_consoantes)))"
   ]
  },
  {
   "cell_type": "markdown",
   "metadata": {},
   "source": [
    "5 - Faça um Programa que leia 20 números inteiros e armazene-os num vetor. Armazene os números pares no vetor PAR e os números IMPARES no vetor impar. Imprima os três vetores."
   ]
  },
  {
   "cell_type": "code",
   "execution_count": 1,
   "metadata": {},
   "outputs": [
    {
     "name": "stdout",
     "output_type": "stream",
     "text": [
      " Números digitados: [3, 5, 2, 9, 8, 6, 3, 22, 55, 60, 20, 11, 4, 8, 90, 100, 200, 32, 33, 98] \n",
      " Números pares: [2, 8, 6, 22, 60, 20, 4, 8, 90, 100, 200, 32, 98] \n",
      " Números impares: [3, 5, 9, 3, 55, 11, 33]\n"
     ]
    }
   ],
   "source": [
    "digitados = []\n",
    "pares = []\n",
    "impares = []\n",
    "\n",
    "for i in range(1,21):\n",
    "    number = int(input('Digite o número #{}'.format(i)))\n",
    "    digitados.append(number)\n",
    "\n",
    "    if (number%2) == 0:\n",
    "        pares.append(number)\n",
    "    else:\n",
    "        impares.append(number)\n",
    "\n",
    "print(' Números digitados:', digitados, '\\n Números pares:', pares, '\\n Números impares:', impares)"
   ]
  },
  {
   "cell_type": "markdown",
   "metadata": {},
   "source": [
    "6 - Faça um Programa que peça as quatro notas de 10 alunos, calcule e armazene num vetor a média de cada aluno, imprima o número de alunos com média maior ou igual a 7.0."
   ]
  },
  {
   "cell_type": "code",
   "execution_count": 19,
   "metadata": {},
   "outputs": [
    {
     "name": "stdout",
     "output_type": "stream",
     "text": [
      "Aluno #1: \n",
      "Aluno #2: \n",
      "Aluno #3: \n",
      "Aluno #4: \n",
      "Aluno #5: \n",
      "Aluno #6: \n",
      "Aluno #7: \n",
      "Aluno #8: \n",
      "Aluno #9: \n",
      "Aluno #10: \n",
      "4 alunos tiveram nota maior ou igual a 7.\n"
     ]
    }
   ],
   "source": [
    "acima_media = []\n",
    "\n",
    "for i in range(1,11):\n",
    "    total_notas = 0    \n",
    "    print('Aluno #{}: '.format(i))\n",
    "    for nota in range(1,5):\n",
    "        notas = float(input('Nota #{}: '.format(nota)))\n",
    "        total_notas += notas\n",
    "    if total_notas/4 >= 7:\n",
    "        acima_media.append(total_notas)\n",
    "\n",
    "print('{} alunos tiveram nota maior ou igual a 7.'.format(len(acima_media)))"
   ]
  },
  {
   "cell_type": "markdown",
   "metadata": {},
   "source": [
    "7 - Faça um Programa que leia um vetor de 5 números inteiros, mostre a soma, a multiplicação e os números."
   ]
  },
  {
   "cell_type": "code",
   "execution_count": 35,
   "metadata": {},
   "outputs": [
    {
     "name": "stdout",
     "output_type": "stream",
     "text": [
      " Os números digitados foram: [2, 2, 2, 2, 2] \n",
      " Soma: 10 \n",
      " Multiplicação: 32\n"
     ]
    }
   ],
   "source": [
    "list_num = []\n",
    "multiplicacao = 1\n",
    "for i in range (1,6):\n",
    "    num = int(input('Digite 5 números inteiros, NUM#{}'.format(i)))\n",
    "    multiplicacao = multiplicacao * num\n",
    "    list_num.append(num)    \n",
    "\n",
    "print(' Os números digitados foram:', list_num, '\\n Soma: {}'.format(sum(list_num)), '\\n Multiplicação: {}'.format(multiplicacao))\n"
   ]
  },
  {
   "cell_type": "markdown",
   "metadata": {},
   "source": [
    "8 - Faça um Programa que peça a idade e a altura de 5 pessoas, armazene cada informação no seu respectivo vetor. Imprima a idade e a altura na ordem inversa a ordem lida."
   ]
  },
  {
   "cell_type": "code",
   "execution_count": 17,
   "metadata": {},
   "outputs": [
    {
     "name": "stdout",
     "output_type": "stream",
     "text": [
      "Pessoa 5 = Idade: 33, altura: 1.74\n",
      "Pessoa 4 = Idade: 22, altura: 1.63\n",
      "Pessoa 3 = Idade: 22, altura: 1.8\n",
      "Pessoa 2 = Idade: 64, altura: 1.52\n",
      "Pessoa 1 = Idade: 63, altura: 1.55\n"
     ]
    }
   ],
   "source": [
    "list_altura = []\n",
    "list_idade = []\n",
    "\n",
    "for i in range (1,6):\n",
    "    idPessoa_altura = [i, float(input('Pessoa {}, digite sua altura: '.format(i)))]\n",
    "    idPessoa_idade = [i,int(input('Pessoa {}, digite sua idade: '.format(i)))]\n",
    "\n",
    "    list_altura.append(idPessoa_altura)\n",
    "    list_idade.append(idPessoa_idade)\n",
    "\n",
    "list_idade.reverse()\n",
    "list_altura.reverse()\n",
    "\n",
    "for i in range(0,5):\n",
    "    print('Pessoa {} = Idade: {}, altura: {}'.format(list_idade[i][0],list_idade[i][1],list_altura[i][1]))\n"
   ]
  },
  {
   "cell_type": "markdown",
   "metadata": {},
   "source": [
    "9 - Faça um Programa que leia um vetor A com 10 números inteiros, calcule e mostre a soma dos quadrados dos elementos do vetor."
   ]
  },
  {
   "cell_type": "code",
   "execution_count": 7,
   "metadata": {},
   "outputs": [
    {
     "name": "stdout",
     "output_type": "stream",
     "text": [
      "A soma dos quadrados dos elementos é: 90\n"
     ]
    }
   ],
   "source": [
    "numbers = []\n",
    "for i in range (1, 11):\n",
    "    num = int(input('Digite 10 números inteiros, \\n Num#{}: '.format(i)))\n",
    "    num_quadrado = num ** 2\n",
    "    numbers.append(num_quadrado)\n",
    "\n",
    "print('A soma dos quadrados dos elementos é: {}'.format(sum(numbers)))"
   ]
  },
  {
   "cell_type": "markdown",
   "metadata": {},
   "source": [
    "10 - Faça um Programa que leia dois vetores com 10 elementos cada. Gere um terceiro vetor de 20 elementos, cujos valores deverão ser compostos pelos elementos intercalados dos dois outros vetores."
   ]
  },
  {
   "cell_type": "code",
   "execution_count": 16,
   "metadata": {},
   "outputs": [
    {
     "name": "stdout",
     "output_type": "stream",
     "text": [
      "Vetor intercalado: [1, 1, 2, 2, 3, 3, 4, 4, 5, 5, 6, 6, 7, 7, 8, 8, 9, 9, 10, 10]\n"
     ]
    }
   ],
   "source": [
    "vetor1 = []\n",
    "vetor2 = []\n",
    "vetor_intercalado = []\n",
    "for i in range (1,11):\n",
    "    vet1 = int(input('Digite os 10 elementos do vetor 1, NUM#{} '.format(i)))\n",
    "    vetor1.append(vet1)\n",
    "\n",
    "for y in range (1,11):   \n",
    "    vet2 = int(input('Digite os 10 elementos do vetor 2, NUM#{} '.format(y)))    \n",
    "    vetor2.append(vet2)\n",
    "\n",
    "for z in range (0,10):\n",
    "    vetor_intercalado.append(vetor1[z])\n",
    "    vetor_intercalado.append(vetor2[z])\n",
    " \n",
    "print('Vetor intercalado: {}'.format(vetor_intercalado))"
   ]
  },
  {
   "cell_type": "markdown",
   "metadata": {},
   "source": [
    "11 - Altere o programa anterior, intercalando 3 vetores de 10 elementos cada."
   ]
  },
  {
   "cell_type": "code",
   "execution_count": 17,
   "metadata": {},
   "outputs": [
    {
     "name": "stdout",
     "output_type": "stream",
     "text": [
      "Vetor intercalado: [1, 1, 1, 2, 2, 2, 3, 3, 3, 4, 4, 4, 5, 5, 5, 6, 6, 6, 7, 7, 7, 8, 8, 8, 9, 9, 9, 10, 10, 10]\n"
     ]
    }
   ],
   "source": [
    "vetor1 = []\n",
    "vetor2 = []\n",
    "vetor3 = []\n",
    "vetor_intercalado = []\n",
    "for i in range (1,11):\n",
    "    vet1 = int(input('Digite os 10 elementos do vetor 1, NUM#{} '.format(i)))\n",
    "    vetor1.append(vet1)\n",
    "\n",
    "for y in range (1,11):   \n",
    "    vet2 = int(input('Digite os 10 elementos do vetor 2, NUM#{} '.format(y)))    \n",
    "    vetor2.append(vet2)\n",
    "\n",
    "for y in range (1,11):   \n",
    "    vet3 = int(input('Digite os 10 elementos do vetor 3, NUM#{} '.format(y)))    \n",
    "    vetor3.append(vet3)\n",
    "\n",
    "for z in range (0,10):\n",
    "    vetor_intercalado.append(vetor1[z])\n",
    "    vetor_intercalado.append(vetor2[z])\n",
    "    vetor_intercalado.append(vetor3[z])\n",
    " \n",
    "print('Vetor intercalado: {}'.format(vetor_intercalado))"
   ]
  },
  {
   "cell_type": "markdown",
   "metadata": {},
   "source": [
    "12 - Foram anotadas as idades e alturas de 5 alunos. Faça um Programa que determine quantos alunos com mais de 13 anos possuem altura inferior à média de altura desses alunos."
   ]
  },
  {
   "cell_type": "code",
   "execution_count": 28,
   "metadata": {},
   "outputs": [
    {
     "name": "stdout",
     "output_type": "stream",
     "text": [
      "2 aluno(s) com mais de 13 anos possuem altura inferior a média.\n"
     ]
    }
   ],
   "source": [
    "idade_altura = []\n",
    "list_alturas = []\n",
    "\n",
    "for i in range(1,6):\n",
    "    idade = int(input('Digite a idade do aluno {}'.format(i)))\n",
    "    altura = float(input('Digite a altura do aluno {}'.format(i)))\n",
    "\n",
    "    insert_idade_altura = (idade, altura) \n",
    "\n",
    "    idade_altura.append(insert_idade_altura)\n",
    "    list_alturas.append(altura)\n",
    "\n",
    "media_altura = sum(list_alturas) / len(list_alturas)\n",
    "\n",
    "qtd_alunos = 0\n",
    "for idade, altura in idade_altura:    \n",
    "    if idade > 13 and altura < media_altura:\n",
    "        qtd_alunos += 1\n",
    "\n",
    "print('{} aluno(s) com mais de 13 anos possuem altura inferior a média.'.format(qtd_alunos))"
   ]
  },
  {
   "cell_type": "markdown",
   "metadata": {},
   "source": [
    "13 - Faça um programa que receba a temperatura média de cada mês do ano e armazene-as em uma lista. Após isto, calcule a média anual das temperaturas e mostre todas as temperaturas acima da média anual, e em que mês elas ocorreram (mostrar o mês por extenso: 1 – Janeiro, 2 – Fevereiro, . . . )."
   ]
  },
  {
   "cell_type": "code",
   "execution_count": 18,
   "metadata": {},
   "outputs": [
    {
     "name": "stdout",
     "output_type": "stream",
     "text": [
      "Temperatura do mês de Março foi acima da média com 50.0º graus.\n",
      "Temperatura do mês de Abril foi acima da média com 50.0º graus.\n"
     ]
    }
   ],
   "source": [
    "list_meses = ['Janeiro', 'Fevereiro','Março', 'Abril', 'Maio', 'Junho', 'Julho', 'Agosto', 'Setembro', 'Outubro', 'Novembro', 'Dezembro']\n",
    "list_temperaturas = []\n",
    "\n",
    "for mes in list_meses:\n",
    "    temperatura = float(input('Digite a temperatura de {}: '.format(mes)))\n",
    "    list_temperaturas.append(temperatura)\n",
    "\n",
    "temperatura_media = sum(list_temperaturas)/len(list_temperaturas)\n",
    "\n",
    "for index, temperatura in enumerate(list_temperaturas):\n",
    "    if temperatura > temperatura_media:\n",
    "        print('Temperatura do mês de {} foi acima da média com {}º graus.'.format(list_meses[index], temperatura))"
   ]
  },
  {
   "cell_type": "markdown",
   "metadata": {},
   "source": [
    "14 - Utilizando listas faça um programa que faça 5 perguntas para uma pessoa sobre um crime. As perguntas são:\n",
    "\n",
    "\"Telefonou para a vítima?\"\n",
    "\n",
    "\"Esteve no local do crime?\"\n",
    "\n",
    "\"Mora perto da vítima?\"\n",
    "\n",
    "\"Devia para a vítima?\"\n",
    "\n",
    "\"Já trabalhou com a vítima?\" \n",
    "\n",
    "O programa deve no final emitir uma classificação sobre a participação da pessoa no crime. Se a pessoa responder positivamente a 2 questões ela deve ser classificada como \"Suspeita\", entre 3 e 4 como \"Cúmplice\" e 5 como \"Assassino\". Caso contrário, ele será classificado como \"Inocente\"."
   ]
  },
  {
   "cell_type": "code",
   "execution_count": 28,
   "metadata": {},
   "outputs": [
    {
     "name": "stdout",
     "output_type": "stream",
     "text": [
      "Suspeita\n"
     ]
    }
   ],
   "source": [
    "list_perguntas = ['Telefonou para a vítima ?','Esteve no local do crime ?','Mora perto da vítima ?','Devia para a vítima ?','Já trabalhou com a vítima ?']\n",
    "list_respostas = []\n",
    "\n",
    "for pergunta in list_perguntas:\n",
    "    resposta = input('{} (sim/nao) '.format(pergunta))\n",
    "    list_respostas.append(resposta)\n",
    "\n",
    "if list_respostas.count('sim') == 5:\n",
    "    print('Assassino')\n",
    "elif list_respostas.count('sim') in (3,4):\n",
    "    print('Cúmplice')\n",
    "elif list_respostas.count('sim') == 2:\n",
    "    print('Suspeita')\n",
    "else:\n",
    "    print('Inocente')"
   ]
  },
  {
   "cell_type": "markdown",
   "metadata": {},
   "source": [
    "15 - Faça um programa que leia um número indeterminado de valores, correspondentes a notas, encerrando a entrada de dados quando for informado um valor igual a -1 (que não deve ser armazenado). Após esta entrada de dados, faça:\n",
    "Mostre a quantidade de valores que foram lidos;\n",
    "\n",
    "a) Exiba todos os valores na ordem em que foram informados, um ao lado do outro;\n",
    "\n",
    "b) Exiba todos os valores na ordem inversa à que foram informados, um abaixo do outro;\n",
    "\n",
    "c) Calcule e mostre a soma dos valores;\n",
    "\n",
    "d) Calcule e mostre a média dos valores;\n",
    "\n",
    "e) Calcule e mostre a quantidade de valores acima da média calculada;\n",
    "\n",
    "f) Calcule e mostre a quantidade de valores abaixo de sete;\n",
    "\n",
    "g )Encerre o programa com uma mensagem;"
   ]
  },
  {
   "cell_type": "code",
   "execution_count": 20,
   "metadata": {},
   "outputs": [
    {
     "name": "stdout",
     "output_type": "stream",
     "text": [
      "A) [1.0, 2.0, 3.0, 4.0, 5.0, 9.0, 10.0, 12.0]\n",
      "B)\n",
      "12.0\n",
      "10.0\n",
      "9.0\n",
      "5.0\n",
      "4.0\n",
      "3.0\n",
      "2.0\n",
      "1.0\n",
      "C) 46.0\n",
      "D) 5.75\n",
      "E) 3\n",
      "F) 3\n",
      "Programa Encerrado\n"
     ]
    }
   ],
   "source": [
    "list_notas = []\n",
    "qtd_acima_media = 0\n",
    "qtd_maior_7 = 0\n",
    "\n",
    "while True:\n",
    "    nota = float(input('Digite a nota ou insira -1 para encerrar: '))\n",
    "\n",
    "    if nota == -1:\n",
    "        break\n",
    "    else:\n",
    "        list_notas.append(nota)\n",
    "\n",
    "print('A) {}'.format(list_notas))\n",
    "list_notas.reverse()\n",
    "print('B)')\n",
    "for nota in list_notas:\n",
    "    print(nota)\n",
    "print('C)',sum(list_notas))\n",
    "print('D)',sum(list_notas)/len(list_notas))\n",
    "for nota in list_notas:\n",
    "    if nota > sum(list_notas)/len(list_notas):\n",
    "        qtd_acima_media +=1\n",
    "    if nota > 7:\n",
    "        qtd_maior_7 +=1\n",
    "print('E)',qtd_acima_media)\n",
    "print('F)',qtd_maior_7)\n",
    "print('Programa Encerrado')\n",
    "\n"
   ]
  }
 ],
 "metadata": {
  "interpreter": {
   "hash": "e4bfd4a1e25b52614df0ea3d2a9f528fe07ea6cf6389d30a64eed3046b397ae6"
  },
  "kernelspec": {
   "display_name": "Python 3.9.6 64-bit",
   "name": "python3"
  },
  "language_info": {
   "codemirror_mode": {
    "name": "ipython",
    "version": 3
   },
   "file_extension": ".py",
   "mimetype": "text/x-python",
   "name": "python",
   "nbconvert_exporter": "python",
   "pygments_lexer": "ipython3",
   "version": "3.9.6"
  },
  "orig_nbformat": 4
 },
 "nbformat": 4,
 "nbformat_minor": 2
}
