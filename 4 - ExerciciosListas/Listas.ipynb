{
 "cells": [
  {
   "cell_type": "markdown",
   "metadata": {},
   "source": [
    "# Resolução Exercícios Listas\n",
    "[Exercícios com Listas](https://wiki.python.org.br/ExerciciosListas)"
   ]
  },
  {
   "cell_type": "markdown",
   "metadata": {},
   "source": [
    "1 - Faça um Programa que leia um vetor de 5 números inteiros e mostre-os."
   ]
  },
  {
   "cell_type": "code",
   "execution_count": 2,
   "metadata": {},
   "outputs": [
    {
     "name": "stdout",
     "output_type": "stream",
     "text": [
      "[1, 2, 3, 4, 5]\n"
     ]
    }
   ],
   "source": [
    "numbers = []\n",
    "for i in range(1,6):\n",
    "    numbers.append(int(input('Digite um número: ')))\n",
    "print(numbers)"
   ]
  },
  {
   "cell_type": "markdown",
   "metadata": {},
   "source": [
    "2 - Faça um Programa que leia um vetor de 10 números reais e mostre-os na ordem inversa."
   ]
  },
  {
   "cell_type": "code",
   "execution_count": 12,
   "metadata": {},
   "outputs": [
    {
     "name": "stdout",
     "output_type": "stream",
     "text": [
      "[10, 9, 8, 7, 6, 5, 4, 3, 2, 1]\n"
     ]
    }
   ],
   "source": [
    "numbers = []\n",
    "for i in range(1,11):\n",
    "    numbers.append(int(input('Digite um número: ')))\n",
    "numbers.reverse()\n",
    "print(numbers)"
   ]
  },
  {
   "cell_type": "markdown",
   "metadata": {},
   "source": [
    "3 - Faça um Programa que leia 4 notas, mostre as notas e a média na tela."
   ]
  },
  {
   "cell_type": "code",
   "execution_count": 30,
   "metadata": {},
   "outputs": [
    {
     "name": "stdout",
     "output_type": "stream",
     "text": [
      "Nota 1: 6.0, Nota 2: 6.5, Nota 3: 6.5, Nota 4: 6.5. A média das notas foi 5.975.\n"
     ]
    }
   ],
   "source": [
    "notas = []\n",
    "for i in range(1,5):\n",
    "    notas.append(float(input('Digite a nota #{}: '.format(i))))\n",
    "print('Nota 1: {}, Nota 2: {}, Nota 3: {}, Nota 4: {}. A média das notas foi {}.'.format(notas[0],notas[1],notas[1],notas[1], sum(notas)/len(notas)))"
   ]
  },
  {
   "cell_type": "markdown",
   "metadata": {},
   "source": [
    "4 - Faça um Programa que leia um vetor de 10 caracteres, e diga quantas consoantes foram lidas. Imprima as consoantes."
   ]
  },
  {
   "cell_type": "code",
   "execution_count": 31,
   "metadata": {},
   "outputs": [
    {
     "name": "stdout",
     "output_type": "stream",
     "text": [
      "['g', 'b', 'm', 'c', 'q', 'x', 'z'] \n",
      "Foram digitados 7 consoantes\n"
     ]
    }
   ],
   "source": [
    "list_consoantes = []\n",
    "for i in range(1,11):\n",
    "    char = input('Digite o {}º caracter: '.format(i))\n",
    "    if char.lower() not in ('a','e','i','o','u'):\n",
    "        list_consoantes.append(char)\n",
    "\n",
    "print(list_consoantes, '\\nForam digitados {} consoantes'.format(len(list_consoantes)))"
   ]
  },
  {
   "cell_type": "markdown",
   "metadata": {},
   "source": [
    "5 - Faça um Programa que leia 20 números inteiros e armazene-os num vetor. Armazene os números pares no vetor PAR e os números IMPARES no vetor impar. Imprima os três vetores."
   ]
  },
  {
   "cell_type": "code",
   "execution_count": 1,
   "metadata": {},
   "outputs": [
    {
     "name": "stdout",
     "output_type": "stream",
     "text": [
      " Números digitados: [3, 5, 2, 9, 8, 6, 3, 22, 55, 60, 20, 11, 4, 8, 90, 100, 200, 32, 33, 98] \n",
      " Números pares: [2, 8, 6, 22, 60, 20, 4, 8, 90, 100, 200, 32, 98] \n",
      " Números impares: [3, 5, 9, 3, 55, 11, 33]\n"
     ]
    }
   ],
   "source": [
    "digitados = []\n",
    "pares = []\n",
    "impares = []\n",
    "\n",
    "for i in range(1,21):\n",
    "    number = int(input('Digite o número #{}'.format(i)))\n",
    "    digitados.append(number)\n",
    "\n",
    "    if (number%2) == 0:\n",
    "        pares.append(number)\n",
    "    else:\n",
    "        impares.append(number)\n",
    "\n",
    "print(' Números digitados:', digitados, '\\n Números pares:', pares, '\\n Números impares:', impares)"
   ]
  },
  {
   "cell_type": "markdown",
   "metadata": {},
   "source": [
    "6 - Faça um Programa que peça as quatro notas de 10 alunos, calcule e armazene num vetor a média de cada aluno, imprima o número de alunos com média maior ou igual a 7.0."
   ]
  },
  {
   "cell_type": "code",
   "execution_count": 19,
   "metadata": {},
   "outputs": [
    {
     "name": "stdout",
     "output_type": "stream",
     "text": [
      "Aluno #1: \n",
      "Aluno #2: \n",
      "Aluno #3: \n",
      "Aluno #4: \n",
      "Aluno #5: \n",
      "Aluno #6: \n",
      "Aluno #7: \n",
      "Aluno #8: \n",
      "Aluno #9: \n",
      "Aluno #10: \n",
      "4 alunos tiveram nota maior ou igual a 7.\n"
     ]
    }
   ],
   "source": [
    "acima_media = []\n",
    "\n",
    "for i in range(1,11):\n",
    "    total_notas = 0    \n",
    "    print('Aluno #{}: '.format(i))\n",
    "    for nota in range(1,5):\n",
    "        notas = float(input('Nota #{}: '.format(nota)))\n",
    "        total_notas += notas\n",
    "    if total_notas/4 >= 7:\n",
    "        acima_media.append(total_notas)\n",
    "\n",
    "print('{} alunos tiveram nota maior ou igual a 7.'.format(len(acima_media)))"
   ]
  },
  {
   "cell_type": "markdown",
   "metadata": {},
   "source": [
    "7 - Faça um Programa que leia um vetor de 5 números inteiros, mostre a soma, a multiplicação e os números."
   ]
  },
  {
   "cell_type": "code",
   "execution_count": 35,
   "metadata": {},
   "outputs": [
    {
     "name": "stdout",
     "output_type": "stream",
     "text": [
      " Os números digitados foram: [2, 2, 2, 2, 2] \n",
      " Soma: 10 \n",
      " Multiplicação: 32\n"
     ]
    }
   ],
   "source": [
    "list_num = []\n",
    "multiplicacao = 1\n",
    "for i in range (1,6):\n",
    "    num = int(input('Digite 5 números inteiros, NUM#{}'.format(i)))\n",
    "    multiplicacao = multiplicacao * num\n",
    "    list_num.append(num)    \n",
    "\n",
    "print(' Os números digitados foram:', list_num, '\\n Soma: {}'.format(sum(list_num)), '\\n Multiplicação: {}'.format(multiplicacao))\n"
   ]
  },
  {
   "cell_type": "markdown",
   "metadata": {},
   "source": [
    "8 - Faça um Programa que peça a idade e a altura de 5 pessoas, armazene cada informação no seu respectivo vetor. Imprima a idade e a altura na ordem inversa a ordem lida."
   ]
  },
  {
   "cell_type": "code",
   "execution_count": 17,
   "metadata": {},
   "outputs": [
    {
     "name": "stdout",
     "output_type": "stream",
     "text": [
      "Pessoa 5 = Idade: 33, altura: 1.74\n",
      "Pessoa 4 = Idade: 22, altura: 1.63\n",
      "Pessoa 3 = Idade: 22, altura: 1.8\n",
      "Pessoa 2 = Idade: 64, altura: 1.52\n",
      "Pessoa 1 = Idade: 63, altura: 1.55\n"
     ]
    }
   ],
   "source": [
    "list_altura = []\n",
    "list_idade = []\n",
    "\n",
    "for i in range (1,6):\n",
    "    idPessoa_altura = [i, float(input('Pessoa {}, digite sua altura: '.format(i)))]\n",
    "    idPessoa_idade = [i,int(input('Pessoa {}, digite sua idade: '.format(i)))]\n",
    "\n",
    "    list_altura.append(idPessoa_altura)\n",
    "    list_idade.append(idPessoa_idade)\n",
    "\n",
    "list_idade.reverse()\n",
    "list_altura.reverse()\n",
    "\n",
    "for i in range(0,5):\n",
    "    print('Pessoa {} = Idade: {}, altura: {}'.format(list_idade[i][0],list_idade[i][1],list_altura[i][1]))\n"
   ]
  }
 ],
 "metadata": {
  "interpreter": {
   "hash": "e4bfd4a1e25b52614df0ea3d2a9f528fe07ea6cf6389d30a64eed3046b397ae6"
  },
  "kernelspec": {
   "display_name": "Python 3.9.6 64-bit",
   "name": "python3"
  },
  "language_info": {
   "codemirror_mode": {
    "name": "ipython",
    "version": 3
   },
   "file_extension": ".py",
   "mimetype": "text/x-python",
   "name": "python",
   "nbconvert_exporter": "python",
   "pygments_lexer": "ipython3",
   "version": "3.9.6"
  },
  "orig_nbformat": 4
 },
 "nbformat": 4,
 "nbformat_minor": 2
}
