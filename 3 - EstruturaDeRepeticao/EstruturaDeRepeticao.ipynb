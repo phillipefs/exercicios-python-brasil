{
 "cells": [
  {
   "cell_type": "markdown",
   "metadata": {},
   "source": [
    "# Resolução Exercícios Estrutura de Repetição\n",
    "[Estrutura de Repetição](https://wiki.python.org.br/EstruturaDeRepeticao)"
   ]
  },
  {
   "cell_type": "markdown",
   "metadata": {},
   "source": [
    "1 - Faça um programa que peça uma nota, entre zero e dez. Mostre uma mensagem caso o valor seja inválido e continue pedindo até que o usuário informe um valor válido."
   ]
  },
  {
   "cell_type": "code",
   "execution_count": 2,
   "metadata": {},
   "outputs": [
    {
     "name": "stdout",
     "output_type": "stream",
     "text": [
      "Nota digitada é válida.\n"
     ]
    }
   ],
   "source": [
    "while True:\n",
    "    nota = input('Digite uma nota entre 0 e 10: ')\n",
    "    if not nota.isdigit():\n",
    "        print('Digite apenas números.')\n",
    "        continue\n",
    "    nota = int(nota)\n",
    "    if nota > 0 and nota <=10:\n",
    "        print('Nota digitada é válida.')\n",
    "        break\n",
    "    else:\n",
    "        print('Valor Inválido')"
   ]
  },
  {
   "cell_type": "markdown",
   "metadata": {},
   "source": [
    "2 - Faça um programa que leia um nome de usuário e a sua senha e não aceite a senha igual ao nome do usuário, mostrando uma mensagem de erro e voltando a pedir as informações."
   ]
  },
  {
   "cell_type": "code",
   "execution_count": 5,
   "metadata": {},
   "outputs": [
    {
     "name": "stdout",
     "output_type": "stream",
     "text": [
      "Usuário e senha cadastrados.\n"
     ]
    }
   ],
   "source": [
    "while True:\n",
    "    nome = input('Digite o nome do usuário: ')\n",
    "    senha = input('Digite a senha do usuário: ')\n",
    "    if nome == senha:\n",
    "        print('A senha não pode ser o nome do usuário.')\n",
    "        continue\n",
    "    else:\n",
    "        print('Usuário e senha cadastrados.')\n",
    "        break"
   ]
  },
  {
   "cell_type": "markdown",
   "metadata": {},
   "source": [
    "3 - Faça um programa que leia e valide as seguintes informações:</br>\n",
    "Nome: maior que 3 caracteres;</br>\n",
    "Idade: entre 0 e 150;</br>\n",
    "Salário: maior que zero;</br>\n",
    "Sexo: 'f' ou 'm';</br>\n",
    "Estado Civil: 's', 'c', 'v', 'd';</br>"
   ]
  },
  {
   "cell_type": "code",
   "execution_count": null,
   "metadata": {},
   "outputs": [],
   "source": []
  },
  {
   "cell_type": "code",
   "execution_count": 3,
   "metadata": {},
   "outputs": [
    {
     "name": "stdout",
     "output_type": "stream",
     "text": [
      "---------------------\n",
      " Validaçãdo dos Dados\n",
      "---------------------\n",
      "O nome Phillipe tem 8 caracteres, validação OK.\n",
      "Idade Válida.\n",
      "Salario Válido.\n",
      "Sexo Válido.\n",
      "Estado civil Inválido.\n"
     ]
    }
   ],
   "source": [
    "nome = input('Digite o nome: ')\n",
    "idade = int(input('Digite a idade: '))\n",
    "salario = float(input('Digite o valor do salário: '))\n",
    "sexo = input('Digite o sexo (m/f): ')\n",
    "estado_civil = input('Digite o estado civil (s,c,v,d): ')\n",
    "print('---------------------''\\n Validaçãdo dos Dados''\\n''---------------------')\n",
    "if len(nome) > 3:\n",
    "    print('O nome {} tem {} caracteres, validação OK.'.format(nome,len(nome)))\n",
    "else:\n",
    "    print('Nome Inválido.')\n",
    "if idade > 0 and idade < 150:\n",
    "    print('Idade Válida.')\n",
    "else:\n",
    "    print('Nome Inválido.')\n",
    "if salario > 0:\n",
    "    print('Salario Válido.')\n",
    "else:\n",
    "    print('Salário Inválido')\n",
    "if sexo == 'f' or sexo =='m':\n",
    "    print('Sexo Válido.')\n",
    "else:\n",
    "    print('Sexo Inválido.')\n",
    "if estado_civil in ['s','c','v','d']:\n",
    "    print('Estado civil Válido.')\n",
    "else:\n",
    "    print('Estado civil Inválido.')"
   ]
  },
  {
   "cell_type": "markdown",
   "metadata": {},
   "source": [
    "4 - Supondo que a população de um país A seja da ordem de 80000 habitantes com uma taxa anual de crescimento de 3% e que a população de B seja 200000 habitantes com uma taxa de crescimento de 1.5%. </br>Faça um programa que calcule e escreva o número de anos necessários para que a população do país A ultrapasse ou iguale a população do país B, mantidas as taxas de crescimento."
   ]
  },
  {
   "cell_type": "code",
   "execution_count": 36,
   "metadata": {},
   "outputs": [
    {
     "name": "stdout",
     "output_type": "stream",
     "text": [
      "Levará 63 anos para população do país A superar o país B.\n"
     ]
    }
   ],
   "source": [
    "populacao_paisA = 80000\n",
    "populacao_paisB = 200000\n",
    "qtd_anos = 0\n",
    "while populacao_paisB >= populacao_paisA:\n",
    "    populacao_paisA = populacao_paisA + (populacao_paisA * 0.030)\n",
    "    populacao_paisB = populacao_paisB + (populacao_paisB * 0.015)\n",
    "    qtd_anos +=1\n",
    "\n",
    "print('Levará {} anos para população do país A superar o país B.'.format(qtd_anos))"
   ]
  },
  {
   "cell_type": "markdown",
   "metadata": {},
   "source": [
    " 5 - Altere o programa anterior permitindo ao usuário informar as populações e as taxas de crescimento iniciais. Valide a entrada e permita repetir a operação."
   ]
  },
  {
   "cell_type": "code",
   "execution_count": 42,
   "metadata": {},
   "outputs": [
    {
     "name": "stdout",
     "output_type": "stream",
     "text": [
      "Levará 63 anos para população do país A superar o país B.\n"
     ]
    }
   ],
   "source": [
    "populacao_paisA = float(input('Digite a população do país A: '))\n",
    "crescimento_a = float(input('Digite a taxa de crescimento do país A:'))\n",
    "populacao_paisB = float(input('Digite a população do país B: '))\n",
    "crescimento_b = float(input('Digite a taxa de crescimento do país B:'))\n",
    "qtd_anos = 0\n",
    "if populacao_paisA > populacao_paisB:\n",
    "    print('População do país A ja é superior a população do país B')\n",
    "else:\n",
    "    while populacao_paisB >= populacao_paisA:\n",
    "        populacao_paisA = populacao_paisA + (populacao_paisA * (crescimento_a/100))\n",
    "        populacao_paisB = populacao_paisB + (populacao_paisB * (crescimento_b/100))\n",
    "        qtd_anos +=1\n",
    "\n",
    "print('Levará {} anos para população do país A superar o país B.'.format(qtd_anos))"
   ]
  },
  {
   "cell_type": "markdown",
   "metadata": {},
   "source": [
    "6 - Faça um programa que imprima na tela os números de 1 a 20, um abaixo do outro. Depois modifique o programa para que ele mostre os números um ao lado do outro."
   ]
  },
  {
   "cell_type": "code",
   "execution_count": 59,
   "metadata": {},
   "outputs": [
    {
     "name": "stdout",
     "output_type": "stream",
     "text": [
      "1\n",
      "2\n",
      "3\n",
      "4\n",
      "5\n",
      "6\n",
      "7\n",
      "8\n",
      "9\n",
      "10\n",
      "11\n",
      "12\n",
      "13\n",
      "14\n",
      "15\n",
      "16\n",
      "17\n",
      "18\n",
      "19\n",
      "20\n",
      "1,2,3,4,5,6,7,8,9,10,11,12,13,14,15,16,17,18,19,20,"
     ]
    }
   ],
   "source": [
    "for i in range(1, 21):\n",
    "    print (i)\n",
    "    \n",
    "for i in range(1, 21):\n",
    "    print (i, end= ',')"
   ]
  },
  {
   "cell_type": "markdown",
   "metadata": {},
   "source": [
    "7 - Faça um programa que leia 5 números e informe o maior número."
   ]
  },
  {
   "cell_type": "code",
   "execution_count": 69,
   "metadata": {},
   "outputs": [
    {
     "name": "stdout",
     "output_type": "stream",
     "text": [
      "O maior número digitado foi: 100\n"
     ]
    }
   ],
   "source": [
    "maior_num = 0\n",
    "for i in range (1,6):\n",
    "    num = int(input('Entre com 5 números, digite o número {}: '.format(i)))\n",
    "    if num > maior_num:\n",
    "        maior_num = num\n",
    "print('O maior número digitado foi: {}'.format(maior_num))"
   ]
  },
  {
   "cell_type": "markdown",
   "metadata": {},
   "source": [
    "8 - Faça um programa que leia 5 números e informe a soma e a média dos números."
   ]
  },
  {
   "cell_type": "code",
   "execution_count": 75,
   "metadata": {},
   "outputs": [
    {
     "name": "stdout",
     "output_type": "stream",
     "text": [
      "A média dos 5 números digitados é: 3.0\n"
     ]
    }
   ],
   "source": [
    "soma = 0\n",
    "for i in range(1,6):\n",
    "    num = float(input('Entre com 5 números, digite o número {}: '.format(i)))\n",
    "    soma +=num\n",
    "    media = soma / i\n",
    "\n",
    "print('A média dos 5 números digitados é: {}'.format(media))"
   ]
  },
  {
   "cell_type": "markdown",
   "metadata": {},
   "source": [
    "9 - Faça um programa que imprima na tela apenas os números ímpares entre 1 e 50."
   ]
  },
  {
   "cell_type": "code",
   "execution_count": 76,
   "metadata": {},
   "outputs": [
    {
     "name": "stdout",
     "output_type": "stream",
     "text": [
      "[1, 3, 5, 7, 9, 11, 13, 15, 17, 19, 21, 23, 25, 27, 29, 31, 33, 35, 37, 39, 41, 43, 45, 47, 49]\n"
     ]
    }
   ],
   "source": [
    "list_impar =[]\n",
    "for num in range(1,51):\n",
    "    if num % 2 != 0:\n",
    "        list_impar.append(num)\n",
    "print(list_impar)"
   ]
  },
  {
   "cell_type": "markdown",
   "metadata": {},
   "source": [
    "10 - Faça um programa que receba dois números inteiros e gere os números inteiros que estão no intervalo compreendido por eles."
   ]
  },
  {
   "cell_type": "code",
   "execution_count": 85,
   "metadata": {},
   "outputs": [
    {
     "name": "stdout",
     "output_type": "stream",
     "text": [
      "3\n",
      "4\n",
      "5\n",
      "6\n",
      "7\n",
      "8\n",
      "9\n"
     ]
    }
   ],
   "source": [
    "num_1 = int(input('Digite o primeiro número inteiro: '))\n",
    "num_2 = int(input('Digite o primeiro número inteiro: '))\n",
    "for num in range(num_1 +1 ,num_2):\n",
    "    print(num)"
   ]
  },
  {
   "cell_type": "markdown",
   "metadata": {},
   "source": [
    "11 - Altere o programa anterior para mostrar no final a soma dos números."
   ]
  },
  {
   "cell_type": "code",
   "execution_count": 89,
   "metadata": {},
   "outputs": [
    {
     "name": "stdout",
     "output_type": "stream",
     "text": [
      "A soma dos números é: 42\n"
     ]
    }
   ],
   "source": [
    "num_1 = int(input('Digite o primeiro número inteiro: '))\n",
    "num_2 = int(input('Digite o primeiro número inteiro: '))\n",
    "soma = 0\n",
    "for num in range(num_1 +1 ,num_2):\n",
    "    soma +=num\n",
    "print('A soma dos números é: {}'.format(soma))"
   ]
  },
  {
   "cell_type": "markdown",
   "metadata": {},
   "source": [
    "12 - Desenvolva um gerador de tabuada, capaz de gerar a tabuada de qualquer número inteiro entre 1 a 10. O usuário deve informar de qual numero ele deseja ver a tabuada. A saída deve ser conforme o exemplo abaixo:\n",
    "Tabuada de 5:</br>\n",
    "5 X 1 = 5</br>\n",
    "5 X 2 = 10</br>\n",
    "...</br>\n",
    "5 X 10 = 50</br>"
   ]
  },
  {
   "cell_type": "code",
   "execution_count": 100,
   "metadata": {},
   "outputs": [
    {
     "name": "stdout",
     "output_type": "stream",
     "text": [
      "5 X 1 = 5\n",
      "5 X 2 = 10\n",
      "5 X 3 = 15\n",
      "5 X 4 = 20\n",
      "5 X 5 = 25\n",
      "5 X 6 = 30\n",
      "5 X 7 = 35\n",
      "5 X 8 = 40\n",
      "5 X 9 = 45\n",
      "5 X 10 = 50\n"
     ]
    }
   ],
   "source": [
    "while True:\n",
    "    tabuada = int(input('Para gerar a tabuada, digite um número de 1 a 10: '))\n",
    "    if tabuada < 1 or tabuada > 10:\n",
    "        print('Tabuada Inválida.')\n",
    "        continue\n",
    "    else:\n",
    "        for i in range(1,11):\n",
    "            print('{} X {} = {}'.format(tabuada,i,tabuada*i))\n",
    "    break"
   ]
  }
 ],
 "metadata": {
  "interpreter": {
   "hash": "e4bfd4a1e25b52614df0ea3d2a9f528fe07ea6cf6389d30a64eed3046b397ae6"
  },
  "kernelspec": {
   "display_name": "Python 3.9.6 64-bit",
   "language": "python",
   "name": "python3"
  },
  "language_info": {
   "codemirror_mode": {
    "name": "ipython",
    "version": 3
   },
   "file_extension": ".py",
   "mimetype": "text/x-python",
   "name": "python",
   "nbconvert_exporter": "python",
   "pygments_lexer": "ipython3",
   "version": "3.9.6"
  },
  "orig_nbformat": 4
 },
 "nbformat": 4,
 "nbformat_minor": 2
}
