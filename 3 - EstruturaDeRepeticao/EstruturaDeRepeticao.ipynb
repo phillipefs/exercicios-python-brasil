{
 "cells": [
  {
   "cell_type": "markdown",
   "metadata": {},
   "source": [
    "# Resolução Exercícios Estrutura de Repetição\n",
    "[Estrutura de Repetição](https://wiki.python.org.br/EstruturaDeRepeticao)"
   ]
  },
  {
   "cell_type": "markdown",
   "metadata": {},
   "source": []
  }
 ],
 "metadata": {
  "language_info": {
   "name": "python"
  },
  "orig_nbformat": 4
 },
 "nbformat": 4,
 "nbformat_minor": 2
}
